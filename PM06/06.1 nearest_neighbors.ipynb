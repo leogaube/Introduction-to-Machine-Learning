{
 "cells": [
  {
   "cell_type": "markdown",
   "metadata": {
    "pycharm": {
     "name": "#%% md\n"
    }
   },
   "source": [
    "# Nearest Neighbors Classification\n",
    "\n",
    "revision: 78571a2"
   ]
  },
  {
   "cell_type": "code",
   "execution_count": null,
   "metadata": {
    "pycharm": {
     "name": "#%%\n"
    }
   },
   "outputs": [],
   "source": [
    "# @formatter:off\n",
    "# PREAMBLE\n",
    "\n",
    "import matplotlib.pyplot as plt\n",
    "import numpy as np\n",
    "import pandas as pd\n",
    "import seaborn as sns\n",
    "from sklearn import preprocessing\n",
    "\n",
    "from mlis.arrays import asinput, aslabel\n",
    "%matplotlib inline\n",
    "sns.set_context(\"notebook\", font_scale=1.1)\n",
    "sns.set_style(\"ticks\")\n",
    "%load_ext autoreload\n",
    "%autoreload 2\n",
    "# @formatter:on"
   ]
  },
  {
   "cell_type": "code",
   "execution_count": null,
   "metadata": {
    "pycharm": {
     "name": "#%%\n"
    }
   },
   "outputs": [],
   "source": [
    "# load data\n",
    "df = pd.read_csv('rocktypes.csv', sep=' ')\n",
    "df['label'] = df['type'].apply(lambda string: -1 if string == 'sand' else +1)\n",
    "\n",
    "\n",
    "def plot_fit(h=None, ax=None):\n",
    "    if ax is None:\n",
    "        fig, ax = plt.subplots()\n",
    "    sns.scatterplot(ax=ax, x='impedance', y='velocity', hue='type', data=df, palette=dict(sand='orange', shale='gray'))\n",
    "    xlim = ax.get_xlim()\n",
    "    ylim = ax.get_ylim()\n",
    "    scaler = preprocessing.StandardScaler().fit(df[['impedance', 'velocity']].values)\n",
    "    if h:\n",
    "        grid = 150\n",
    "        xx, yy = np.meshgrid(np.linspace(xlim[0], xlim[1], grid), np.linspace(ylim[0], ylim[1], grid))\n",
    "        XY = np.array([np.ravel(xx), np.ravel(yy)]).T\n",
    "        XY = scaler.transform(XY)\n",
    "        P = h(XY).reshape(grid, grid)\n",
    "        cn = ax.contour(xx, yy, P, colors='k', levels=10)\n",
    "        ax.clabel(cn, inline=1, fontsize=10)\n",
    "    ax.set_xlim(xlim)\n",
    "    ax.set_ylim(ylim)\n",
    "\n",
    "\n",
    "plot_fit()"
   ]
  },
  {
   "cell_type": "code",
   "execution_count": null,
   "metadata": {
    "pycharm": {
     "name": "#%%\n"
    }
   },
   "outputs": [],
   "source": [
    "# Open nearest_neighbors.py and implement the function knn_classify\n",
    "\n",
    "from mlis.nonparametric.nearest_neighbors import knn_classify\n",
    "from scipy.spatial.distance import cdist\n",
    "\n",
    "k = 1\n",
    "X = np.array([[1], [2], [3]])\n",
    "y = np.array([5, -1, 3])\n",
    "Z = np.array([[1], [3], [2]])\n",
    "np.testing.assert_array_almost_equal(knn_classify(X, y, Z, 1, cdist), [5., 3., -1.], decimal=3)\n",
    "np.testing.assert_array_almost_equal(knn_classify(X, y, Z, 2, cdist), [2., 1., 2.], decimal=3)\n",
    "np.testing.assert_array_almost_equal(knn_classify(X, y, Z, 3, cdist), [2.333, 2.333, 2.333], decimal=3)"
   ]
  },
  {
   "cell_type": "markdown",
   "metadata": {
    "pycharm": {
     "name": "#%% md\n"
    }
   },
   "source": [
    "Make predictions on the rock types data set for various values of k.\n",
    "This should reproduce figure 7.4 on page 64"
   ]
  },
  {
   "cell_type": "code",
   "execution_count": null,
   "metadata": {
    "pycharm": {
     "name": "#%%\n"
    }
   },
   "outputs": [],
   "source": [
    "X = preprocessing.StandardScaler().fit_transform(asinput(df[['impedance', 'velocity']]))\n",
    "y = aslabel(df['label'])\n",
    "plot_fit(lambda Z: knn_classify(X, y, Z, 20, cdist))"
   ]
  },
  {
   "cell_type": "markdown",
   "metadata": {
    "pycharm": {
     "name": "#%% md\n"
    }
   },
   "source": [
    "*Task:* Use a different distance metric: Change the parameter \"metric\" from scipy.spatial.distance.cdist"
   ]
  },
  {
   "cell_type": "code",
   "execution_count": null,
   "metadata": {
    "pycharm": {
     "name": "#%%\n"
    }
   },
   "outputs": [],
   "source": [
    "# your code here"
   ]
  },
  {
   "cell_type": "markdown",
   "metadata": {
    "pycharm": {
     "name": "#%% md\n"
    }
   },
   "source": [
    "# Nearest Neighbors Regression"
   ]
  },
  {
   "cell_type": "markdown",
   "metadata": {
    "pycharm": {
     "name": "#%% md\n"
    }
   },
   "source": [
    "Implement nearest neighbors regression. Reproduce figure 7.3 on page 64."
   ]
  },
  {
   "cell_type": "code",
   "execution_count": null,
   "metadata": {
    "pycharm": {
     "name": "#%%\n"
    }
   },
   "outputs": [],
   "source": [
    "# your code here"
   ]
  }
 ],
 "metadata": {
  "celltoolbar": "Tags",
  "kernelspec": {
   "display_name": "Python 3 (ipykernel)",
   "language": "python",
   "name": "python3"
  },
  "language_info": {
   "codemirror_mode": {
    "name": "ipython",
    "version": 3
   },
   "file_extension": ".py",
   "mimetype": "text/x-python",
   "name": "python",
   "nbconvert_exporter": "python",
   "pygments_lexer": "ipython3",
   "version": "3.9.13"
  },
  "vscode": {
   "interpreter": {
    "hash": "dc66e4307222f484e9e51e3e58e9832a25af17cc4b70bcad5e72d26d360bcade"
   }
  }
 },
 "nbformat": 4,
 "nbformat_minor": 4
}