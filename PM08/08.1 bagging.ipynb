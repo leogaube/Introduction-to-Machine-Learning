{
 "cells": [
  {
   "cell_type": "markdown",
   "metadata": {
    "pycharm": {
     "name": "#%% md\n"
    }
   },
   "source": [
    "# Bagging\n",
    "\n",
    "revision: 78571a2"
   ]
  },
  {
   "cell_type": "code",
   "execution_count": null,
   "metadata": {
    "pycharm": {
     "name": "#%%\n"
    }
   },
   "outputs": [],
   "source": [
    "# @formatter:off\n",
    "# PREAMBLE\n",
    "\n",
    "import matplotlib.pyplot as plt\n",
    "import numpy as np\n",
    "import pandas as pd\n",
    "import seaborn as sns\n",
    "from sklearn.tree import DecisionTreeRegressor\n",
    "\n",
    "from mlis.arrays import asinput, aslabel\n",
    "\n",
    "%matplotlib inline\n",
    "sns.set_context(\"notebook\", font_scale=1.1)\n",
    "sns.set_style(\"ticks\")\n",
    "%load_ext autoreload\n",
    "%autoreload 2\n",
    "# @formatter:on"
   ]
  },
  {
   "cell_type": "code",
   "execution_count": null,
   "metadata": {
    "pycharm": {
     "name": "#%%\n"
    }
   },
   "outputs": [],
   "source": [
    "# we will not implement a decision tree regressor again, but use the one from sklearn\n",
    "def tree_base_learner(X, y):\n",
    "    # wrap sklearn\n",
    "    tree = DecisionTreeRegressor(min_samples_split=.1)\n",
    "    tree.fit(asinput(X), aslabel(y))\n",
    "    # return the decision tree model\n",
    "    h = lambda Z: tree.predict(asinput(Z))\n",
    "    return h\n",
    "\n",
    "\n",
    "# load data\n",
    "df = pd.read_csv('energy.csv', sep=' ')\n",
    "X = asinput(df['temp'])\n",
    "y = aslabel(df['energy'])\n",
    "t = np.linspace(X.min(), X.max())\n",
    "\n",
    "# fit a decision tree regressor\n",
    "h = tree_base_learner(X, y)\n",
    "\n",
    "# plot data\n",
    "fig, ax = plt.subplots()\n",
    "sns.scatterplot(ax=ax, x='temp', y='energy', data=df)\n",
    "ax.plot(t, h(t), 'r', drawstyle='steps-pre')"
   ]
  },
  {
   "cell_type": "code",
   "execution_count": null,
   "metadata": {
    "pycharm": {
     "name": "#%%\n"
    }
   },
   "outputs": [],
   "source": [
    "# Open bagging.py and implement the function bootstrap\n",
    "\n",
    "from mlis.ensembles.bagging import bootstrap\n",
    "\n",
    "rng = np.random.RandomState(1)  # fix rng\n",
    "X_boot, y_boot = bootstrap(X, y, rng)\n",
    "\n",
    "np.testing.assert_equal(X_boot.shape, X.shape)\n",
    "np.testing.assert_equal(y_boot.shape, y.shape)\n",
    "for xi, yi in zip(X_boot, y_boot):\n",
    "    assert xi in X\n",
    "    assert yi in y"
   ]
  },
  {
   "cell_type": "code",
   "execution_count": null,
   "metadata": {
    "pycharm": {
     "name": "#%%\n"
    }
   },
   "outputs": [],
   "source": [
    "def fit_ensemble(X, y, base_learner, T, rng):\n",
    "    \"\"\"\n",
    "    fit an ensemble to the data\n",
    "    @param X: m by 1 array of inputs\n",
    "    @param y: m by 1 array of labels\n",
    "    @param base_learner: The base learner\n",
    "    @param T: Ensemble size / number of base learner\n",
    "    @param rng: numpy RandomState instance.\n",
    "    @return: A collection of fitted base_learner\n",
    "    \"\"\"\n",
    "    ensemble = [base_learner(*bootstrap(X, y, rng)) for _ in range(T)]\n",
    "    return ensemble\n",
    "\n",
    "\n",
    "# learn ensemble\n",
    "rng = np.random.RandomState(1)\n",
    "ensemble = fit_ensemble(X, y, tree_base_learner, 100, rng)\n",
    "\n",
    "# plot data\n",
    "fig, ax = plt.subplots()\n",
    "sns.scatterplot(ax=ax, x='temp', y='energy', data=df)\n",
    "\n",
    "# plot individual trees\n",
    "for tree in ensemble:\n",
    "    ax.plot(t, tree(t), 'k', alpha=0.7, drawstyle='steps-pre')"
   ]
  },
  {
   "cell_type": "code",
   "execution_count": null,
   "metadata": {
    "pycharm": {
     "name": "#%%\n"
    }
   },
   "outputs": [],
   "source": [
    "# Open bagging.py and implement the ensemble_predict\n",
    "\n",
    "from mlis.ensembles.bagging import ensemble_predict\n",
    "\n",
    "X = asinput(df['temp'])\n",
    "y = aslabel(df['energy'])\n",
    "t = np.linspace(X.min(), X.max())\n",
    "\n",
    "# learn ensemble\n",
    "rng = np.random.RandomState(1)\n",
    "ensemble = fit_ensemble(X, y, tree_base_learner, 100, rng)\n",
    "# make prediction\n",
    "yhat = ensemble_predict(t, ensemble)\n",
    "# plot data\n",
    "fig, ax = plt.subplots()\n",
    "sns.scatterplot(ax=ax, x='temp', y='energy', data=df)\n",
    "# plot individual trees\n",
    "for tree in ensemble:\n",
    "    ax.plot(t, tree(t), 'k', alpha=0.7, drawstyle='steps-pre')\n",
    "# plot ensemble prediction\n",
    "ax.plot(t, yhat, 'r', drawstyle='steps-pre')"
   ]
  }
 ],
 "metadata": {
  "kernelspec": {
   "display_name": "Python 3 (ipykernel)",
   "language": "python",
   "name": "python3"
  },
  "language_info": {
   "codemirror_mode": {
    "name": "ipython",
    "version": 3
   },
   "file_extension": ".py",
   "mimetype": "text/x-python",
   "name": "python",
   "nbconvert_exporter": "python",
   "pygments_lexer": "ipython3",
   "version": "3.9.13"
  }
 },
 "nbformat": 4,
 "nbformat_minor": 4
}