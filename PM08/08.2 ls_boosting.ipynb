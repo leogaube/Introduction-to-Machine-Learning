{
 "cells": [
  {
   "cell_type": "markdown",
   "metadata": {
    "pycharm": {
     "name": "#%% md\n"
    }
   },
   "source": [
    "# Least Squares Boosting\n",
    "\n",
    "revision: dcfbda7"
   ]
  },
  {
   "cell_type": "code",
   "execution_count": null,
   "metadata": {
    "pycharm": {
     "name": "#%%\n"
    }
   },
   "outputs": [],
   "source": [
    "# @formatter:off\n",
    "# PREAMBLE\n",
    "\n",
    "import matplotlib.pyplot as plt\n",
    "import numpy as np\n",
    "import pandas as pd\n",
    "import seaborn as sns\n",
    "from sklearn.tree import DecisionTreeRegressor\n",
    "\n",
    "from mlis.arrays import asinput, aslabel\n",
    "\n",
    "%matplotlib inline\n",
    "sns.set_context(\"notebook\", font_scale=1.1)\n",
    "sns.set_style(\"ticks\")\n",
    "%load_ext autoreload\n",
    "%autoreload 2\n",
    "# @formatter:on"
   ]
  },
  {
   "cell_type": "code",
   "execution_count": null,
   "metadata": {
    "pycharm": {
     "name": "#%%\n"
    }
   },
   "outputs": [],
   "source": [
    "# we will not implement a decision tree regressor again, but use the one from sklearn\n",
    "# fits a decision tree stump\n",
    "def stump_fit(X, y):\n",
    "    # sklearn expects X to be a matrix, so we reshape it to a mx1 matrix.\n",
    "    h = DecisionTreeRegressor(max_depth=1)\n",
    "    h.fit(asinput(X), aslabel(y))\n",
    "    # sklearn expects X to be a matrix, so we reshape it to a mx1 matrix.\n",
    "    predict = lambda Z: h.predict(asinput(Z))\n",
    "    return predict\n",
    "\n",
    "\n",
    "# load data\n",
    "df = pd.read_csv('energy.csv', sep=' ')\n",
    "X = asinput(df['temp'])\n",
    "y = aslabel(df['energy'])\n",
    "t = np.linspace(X.min(), X.max())\n",
    "\n",
    "# fit a decision tree stump\n",
    "stump = stump_fit(X, y)\n",
    "\n",
    "# plot data\n",
    "fig, ax = plt.subplots()\n",
    "sns.scatterplot(ax=ax, x='temp', y='energy', data=df)\n",
    "\n",
    "# plot individual trees\n",
    "ax.plot(t, stump(t), 'k', drawstyle='steps-pre');"
   ]
  },
  {
   "cell_type": "markdown",
   "metadata": {
    "pycharm": {
     "name": "#%% md\n"
    }
   },
   "source": [
    "Implement the least squares boosting algoithm using decision tree stumps. Create an ensemble $H$ with\n",
    "\n",
    "$$\n",
    "H(x) = h_1(x) + h_2(x) + \\dots + h_T(x)\n",
    "$$\n",
    "\n",
    "where each stump $h_t$ is fitted to the residuals of $H_{t-1}$.\n",
    "Make sure, that you get for $T=1$ the same result as above."
   ]
  },
  {
   "cell_type": "code",
   "execution_count": null,
   "metadata": {
    "pycharm": {
     "name": "#%%\n"
    }
   },
   "outputs": [],
   "source": [
    "# Open ls_boosting.py and implement the function ls_boosting_fit\n",
    "\n",
    "from mlis.ensembles.ls_boosting import ls_boosting_fit\n",
    "\n",
    "# plot data\n",
    "fig, ax = plt.subplots()\n",
    "sns.scatterplot(ax=ax, x='temp', y='energy', data=df)\n",
    "\n",
    "# plot predictions\n",
    "for T in [1, 3, 50]:\n",
    "    H = ls_boosting_fit(X, y, T)\n",
    "    ax.plot(t, H(t), drawstyle='steps-pre')"
   ]
  }
 ],
 "metadata": {
  "kernelspec": {
   "display_name": "Python 3 (ipykernel)",
   "language": "python",
   "name": "python3"
  },
  "language_info": {
   "codemirror_mode": {
    "name": "ipython",
    "version": 3
   },
   "file_extension": ".py",
   "mimetype": "text/x-python",
   "name": "python",
   "nbconvert_exporter": "python",
   "pygments_lexer": "ipython3",
   "version": "3.9.13"
  }
 },
 "nbformat": 4,
 "nbformat_minor": 4
}